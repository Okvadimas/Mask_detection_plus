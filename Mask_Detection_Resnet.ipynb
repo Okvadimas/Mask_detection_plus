{
  "nbformat": 4,
  "nbformat_minor": 0,
  "metadata": {
    "colab": {
      "name": "Mask Detection Resnet.ipynb",
      "provenance": [],
      "collapsed_sections": []
    },
    "kernelspec": {
      "name": "python3",
      "display_name": "Python 3"
    }
  },
  "cells": [
    {
      "cell_type": "code",
      "metadata": {
        "id": "T-KA30zWCgiJ",
        "colab_type": "code",
        "colab": {}
      },
      "source": [
        "import numpy as np\n",
        "import tensorflow as tf\n",
        "import os\n",
        "from sklearn.model_selection import train_test_split\n",
        "import pickle\n",
        "import cv2\n",
        "import matplotlib.pyplot as plt\n",
        "import tensorflow as tf\n",
        "to_categorical = tf.keras.utils.to_categorical"
      ],
      "execution_count": null,
      "outputs": []
    },
    {
      "cell_type": "code",
      "metadata": {
        "id": "S5qsulunE9H-",
        "colab_type": "code",
        "colab": {
          "base_uri": "https://localhost:8080/",
          "height": 34
        },
        "outputId": "fe71b6a3-80d4-4f00-cb4f-97bb72c767dd"
      },
      "source": [
        "from google.colab import drive\n",
        "drive.mount('/content/drive/')"
      ],
      "execution_count": null,
      "outputs": [
        {
          "output_type": "stream",
          "text": [
            "Drive already mounted at /content/drive/; to attempt to forcibly remount, call drive.mount(\"/content/drive/\", force_remount=True).\n"
          ],
          "name": "stdout"
        }
      ]
    },
    {
      "cell_type": "code",
      "metadata": {
        "id": "zhTIsTowFQCW",
        "colab_type": "code",
        "colab": {
          "base_uri": "https://localhost:8080/",
          "height": 34
        },
        "outputId": "51d071a0-ac6f-4739-df3b-651098e3821f"
      },
      "source": [
        "%cd /content/drive/My Drive/Mask Detection"
      ],
      "execution_count": null,
      "outputs": [
        {
          "output_type": "stream",
          "text": [
            "/content/drive/My Drive/Mask Detection\n"
          ],
          "name": "stdout"
        }
      ]
    },
    {
      "cell_type": "code",
      "metadata": {
        "id": "zPUZps7HDKvR",
        "colab_type": "code",
        "colab": {}
      },
      "source": [
        "train_path =  os.path.join('dest_folder/train')\n",
        "test_path =  os.path.join('dest_folder/test')\n",
        "val_path =  os.path.join('dest_folder/val')"
      ],
      "execution_count": null,
      "outputs": []
    },
    {
      "cell_type": "code",
      "metadata": {
        "id": "rzGU9jRTD8pZ",
        "colab_type": "code",
        "colab": {}
      },
      "source": [
        "training_data = []\n",
        "category = [\"with_mask\", \"without_mask\"]\n",
        "\n",
        "for i in os.listdir(train_path):\n",
        "    label = category.index(i)\n",
        "    new_path = os.path.join(train_path, i)\n",
        "    for j in os.listdir(new_path):\n",
        "      try:\n",
        "          img_to_array = cv2.imread(os.path.join(new_path, j))\n",
        "          new_array = cv2.resize(img_to_array, (150,200))\n",
        "          training_data.append([new_array, label])\n",
        "      except:\n",
        "          pass"
      ],
      "execution_count": null,
      "outputs": []
    },
    {
      "cell_type": "code",
      "metadata": {
        "id": "W2zLQrycWfxV",
        "colab_type": "code",
        "colab": {
          "base_uri": "https://localhost:8080/",
          "height": 34
        },
        "outputId": "ef5900b0-a1b4-4053-b284-820fbbf3765c"
      },
      "source": [
        "print(len(training_data))"
      ],
      "execution_count": null,
      "outputs": [
        {
          "output_type": "stream",
          "text": [
            "1315\n"
          ],
          "name": "stdout"
        }
      ]
    },
    {
      "cell_type": "code",
      "metadata": {
        "id": "JVlz5JvVVInd",
        "colab_type": "code",
        "colab": {}
      },
      "source": [
        "pickle_out = open('training_data.pickle', 'wb')\n",
        "pickle.dump(training_data, pickle_out)\n",
        "pickle_out.close()"
      ],
      "execution_count": null,
      "outputs": []
    },
    {
      "cell_type": "code",
      "metadata": {
        "id": "2xQnrYomV2pE",
        "colab_type": "code",
        "colab": {}
      },
      "source": [
        "pickle_in = open('training_data.pickle', 'rb')\n",
        "training_data_pickle = pickle.load(pickle_in)"
      ],
      "execution_count": null,
      "outputs": []
    },
    {
      "cell_type": "code",
      "metadata": {
        "id": "exhv3t8ND8vD",
        "colab_type": "code",
        "colab": {}
      },
      "source": [
        "X = []\n",
        "y = []\n",
        "\n",
        "for features, labels in training_data_pickle:\n",
        "    X.append(features)\n",
        "    y.append(labels)"
      ],
      "execution_count": null,
      "outputs": []
    },
    {
      "cell_type": "code",
      "metadata": {
        "id": "KR6mL0utX-u-",
        "colab_type": "code",
        "colab": {
          "base_uri": "https://localhost:8080/",
          "height": 85
        },
        "outputId": "b5b2e479-3dff-4492-fe92-988e570c2dfb"
      },
      "source": [
        "X = np.array(X)\n",
        "y = np.array(y)\n",
        "\n",
        "print(len(X))\n",
        "print(len(y))\n",
        "print(X.shape)\n",
        "print(y.shape)"
      ],
      "execution_count": null,
      "outputs": [
        {
          "output_type": "stream",
          "text": [
            "1315\n",
            "1315\n",
            "(1315, 200, 150, 3)\n",
            "(1315,)\n"
          ],
          "name": "stdout"
        }
      ]
    },
    {
      "cell_type": "code",
      "metadata": {
        "id": "-biiJCDtWxlc",
        "colab_type": "code",
        "colab": {}
      },
      "source": [
        "# to categorical \n",
        "# y = to_categorical(y)"
      ],
      "execution_count": null,
      "outputs": []
    },
    {
      "cell_type": "code",
      "metadata": {
        "id": "hYQsaCUjD879",
        "colab_type": "code",
        "colab": {}
      },
      "source": [
        "# ingat reshape dulu baru normalisasi\n",
        "X = np.array(X).reshape(-1,200,150,3)\n",
        "X = X/255.0"
      ],
      "execution_count": null,
      "outputs": []
    },
    {
      "cell_type": "code",
      "metadata": {
        "id": "SvnsKJbpYguK",
        "colab_type": "code",
        "colab": {
          "base_uri": "https://localhost:8080/",
          "height": 34
        },
        "outputId": "6d46a466-dd39-403c-9d63-e5ab05460c3c"
      },
      "source": [
        "print(X.shape)"
      ],
      "execution_count": null,
      "outputs": [
        {
          "output_type": "stream",
          "text": [
            "(1315, 200, 150, 3)\n"
          ],
          "name": "stdout"
        }
      ]
    },
    {
      "cell_type": "code",
      "metadata": {
        "id": "rUo9mFCBXB2p",
        "colab_type": "code",
        "colab": {}
      },
      "source": [
        "import tensorflow as tf\n",
        "\n",
        "resnet = tf.keras.applications.ResNet50V2(weights='imagenet', include_top=False, input_shape=(200,150,3))"
      ],
      "execution_count": null,
      "outputs": []
    },
    {
      "cell_type": "code",
      "metadata": {
        "id": "5ratKg4yYuje",
        "colab_type": "code",
        "colab": {}
      },
      "source": [
        "model = tf.keras.models.Sequential([\n",
        "    resnet, \n",
        "    tf.keras.layers.Flatten(),\n",
        "    tf.keras.layers.Dense(512, activation=\"relu\"),\n",
        "    tf.keras.layers.Dropout(0.2),\n",
        "    tf.keras.layers.Dense(1, activation='sigmoid')\n",
        "])\n",
        "\n",
        "resnet.trainable = False"
      ],
      "execution_count": null,
      "outputs": []
    },
    {
      "cell_type": "code",
      "metadata": {
        "id": "oEudf1miZFXJ",
        "colab_type": "code",
        "colab": {
          "base_uri": "https://localhost:8080/",
          "height": 323
        },
        "outputId": "7e78c9ff-4eb8-457d-f01f-1ccfd05a3293"
      },
      "source": [
        "model.summary()"
      ],
      "execution_count": null,
      "outputs": [
        {
          "output_type": "stream",
          "text": [
            "Model: \"sequential\"\n",
            "_________________________________________________________________\n",
            "Layer (type)                 Output Shape              Param #   \n",
            "=================================================================\n",
            "resnet50v2 (Functional)      (None, 7, 5, 2048)        23564800  \n",
            "_________________________________________________________________\n",
            "flatten (Flatten)            (None, 71680)             0         \n",
            "_________________________________________________________________\n",
            "dense (Dense)                (None, 512)               36700672  \n",
            "_________________________________________________________________\n",
            "dropout (Dropout)            (None, 512)               0         \n",
            "_________________________________________________________________\n",
            "dense_1 (Dense)              (None, 1)                 513       \n",
            "=================================================================\n",
            "Total params: 60,265,985\n",
            "Trainable params: 36,701,185\n",
            "Non-trainable params: 23,564,800\n",
            "_________________________________________________________________\n"
          ],
          "name": "stdout"
        }
      ]
    },
    {
      "cell_type": "code",
      "metadata": {
        "id": "SFZ11WmMZINZ",
        "colab_type": "code",
        "colab": {}
      },
      "source": [
        "model.compile(optimizer='adam', loss='binary_crossentropy', metrics=['accuracy'])"
      ],
      "execution_count": null,
      "outputs": []
    },
    {
      "cell_type": "code",
      "metadata": {
        "id": "3TenXB6yEKd4",
        "colab_type": "code",
        "colab": {}
      },
      "source": [
        "# from tensorflow.keras.callbacks import TensorBoard\n",
        "\n",
        "# NAME = \"Face_mask_recognition\"\n",
        "# tboard_log_dir = os.path.join(\"tensorboard\",NAME)\n",
        "# tensorboard = TensorBoard(log_dir = tboard_log_dir)\n",
        "\n",
        "class myCallback(tf.keras.callbacks.Callback):\n",
        "    def on_epoch_end(self, epoch, logs={}):\n",
        "        if(logs.get(\"accuracy\") > 0.99):\n",
        "            print(\" Reached 99% Accuracy\")\n",
        "            self.model.stop_training = True\n",
        "            \n",
        "callbacks = myCallback()"
      ],
      "execution_count": null,
      "outputs": []
    },
    {
      "cell_type": "code",
      "metadata": {
        "id": "4BNqE8pQEKiZ",
        "colab_type": "code",
        "colab": {
          "base_uri": "https://localhost:8080/",
          "height": 102
        },
        "outputId": "31257ba9-b3a9-4463-e418-af79b1e2c50d"
      },
      "source": [
        "history = model.fit(X, y, batch_size=128, validation_split=0.2, epochs=30, callbacks=[callbacks])"
      ],
      "execution_count": null,
      "outputs": [
        {
          "output_type": "stream",
          "text": [
            "Epoch 1/30\n",
            "9/9 [==============================] - 97s 11s/step - loss: 1.0877 - accuracy: 0.9087 - val_loss: 3.6183 - val_accuracy: 0.9506\n",
            "Epoch 2/30\n",
            "9/9 [==============================] - ETA: 0s - loss: 0.4382 - accuracy: 0.9905 Reached 99% Accuracy\n",
            "9/9 [==============================] - 98s 11s/step - loss: 0.4382 - accuracy: 0.9905 - val_loss: 3.4543 - val_accuracy: 0.9544\n"
          ],
          "name": "stdout"
        }
      ]
    },
    {
      "cell_type": "code",
      "metadata": {
        "id": "Q71mLs1ZEKk7",
        "colab_type": "code",
        "colab": {
          "base_uri": "https://localhost:8080/",
          "height": 1000
        },
        "outputId": "83f2e12c-266c-48ed-a36e-de750afe4fec"
      },
      "source": [
        "from tensorflow.keras.preprocessing import image\n",
        "\n",
        "# dibawah ini nama nya hanya perumpamaan saja\n",
        "category = [\"with_mask\", \"without_mask\"]\n",
        "\n",
        "for i in os.listdir(val_path):\n",
        "  path = os.path.join(val_path, i)\n",
        "  for j in os.listdir(path):\n",
        "    img = image.load_img(os.path.join(path, j), target_size=(200,150), color_mode=\"rgb\")\n",
        "    x = image.img_to_array(img)\n",
        "    x = np.expand_dims(x, axis=0)\n",
        "    x = x/255.0\n",
        "\n",
        "    images = np.vstack([x])\n",
        "    classes = model.predict(images, batch_size=10)\n",
        "    result = []\n",
        "\n",
        "    if classes[0] > 0.5:\n",
        "      temp = f\"{classes[0]} From Validation Class \" + i + \" -> Without Mask\"\n",
        "\n",
        "    else:\n",
        "      temp = f\"{classes[0]} From Validation Class \" + i + \" -> With Mask\"\n",
        "    \n",
        "    result.append(temp)\n",
        "    print(result)"
      ],
      "execution_count": null,
      "outputs": [
        {
          "output_type": "stream",
          "text": [
            "['[1.] From Validation Class without_mask -> Without Mask']\n",
            "['[1.] From Validation Class without_mask -> Without Mask']\n",
            "['[1.] From Validation Class without_mask -> Without Mask']\n",
            "['[1.] From Validation Class without_mask -> Without Mask']\n",
            "['[1.] From Validation Class without_mask -> Without Mask']\n",
            "['[1.] From Validation Class without_mask -> Without Mask']\n",
            "['[1.] From Validation Class without_mask -> Without Mask']\n",
            "['[1.] From Validation Class without_mask -> Without Mask']\n",
            "['[1.] From Validation Class without_mask -> Without Mask']\n",
            "['[1.] From Validation Class without_mask -> Without Mask']\n",
            "['[1.] From Validation Class without_mask -> Without Mask']\n",
            "['[1.] From Validation Class without_mask -> Without Mask']\n",
            "['[1.] From Validation Class without_mask -> Without Mask']\n",
            "['[1.] From Validation Class without_mask -> Without Mask']\n",
            "['[1.] From Validation Class without_mask -> Without Mask']\n",
            "['[1.] From Validation Class without_mask -> Without Mask']\n",
            "['[1.] From Validation Class without_mask -> Without Mask']\n",
            "['[1.] From Validation Class without_mask -> Without Mask']\n",
            "['[1.] From Validation Class without_mask -> Without Mask']\n",
            "['[1.] From Validation Class without_mask -> Without Mask']\n",
            "['[1.] From Validation Class without_mask -> Without Mask']\n",
            "['[1.] From Validation Class without_mask -> Without Mask']\n",
            "['[1.] From Validation Class without_mask -> Without Mask']\n",
            "['[1.] From Validation Class without_mask -> Without Mask']\n",
            "['[1.] From Validation Class without_mask -> Without Mask']\n",
            "['[1.] From Validation Class without_mask -> Without Mask']\n",
            "['[1.] From Validation Class without_mask -> Without Mask']\n",
            "['[1.] From Validation Class without_mask -> Without Mask']\n",
            "['[1.] From Validation Class without_mask -> Without Mask']\n",
            "['[1.] From Validation Class without_mask -> Without Mask']\n",
            "['[1.] From Validation Class without_mask -> Without Mask']\n",
            "['[1.] From Validation Class without_mask -> Without Mask']\n",
            "['[1.] From Validation Class without_mask -> Without Mask']\n",
            "['[1.] From Validation Class without_mask -> Without Mask']\n",
            "['[1.] From Validation Class without_mask -> Without Mask']\n",
            "['[1.] From Validation Class without_mask -> Without Mask']\n",
            "['[1.] From Validation Class without_mask -> Without Mask']\n",
            "['[1.] From Validation Class without_mask -> Without Mask']\n",
            "['[1.] From Validation Class without_mask -> Without Mask']\n",
            "['[1.] From Validation Class without_mask -> Without Mask']\n",
            "['[1.] From Validation Class without_mask -> Without Mask']\n",
            "['[1.] From Validation Class without_mask -> Without Mask']\n",
            "['[1.] From Validation Class without_mask -> Without Mask']\n",
            "['[1.] From Validation Class without_mask -> Without Mask']\n",
            "['[1.] From Validation Class without_mask -> Without Mask']\n",
            "['[1.] From Validation Class without_mask -> Without Mask']\n",
            "['[1.] From Validation Class without_mask -> Without Mask']\n",
            "['[1.] From Validation Class without_mask -> Without Mask']\n",
            "['[1.] From Validation Class without_mask -> Without Mask']\n",
            "['[1.] From Validation Class without_mask -> Without Mask']\n",
            "['[1.] From Validation Class without_mask -> Without Mask']\n",
            "['[1.] From Validation Class without_mask -> Without Mask']\n",
            "['[1.] From Validation Class without_mask -> Without Mask']\n",
            "['[1.] From Validation Class without_mask -> Without Mask']\n",
            "['[1.] From Validation Class without_mask -> Without Mask']\n",
            "['[1.] From Validation Class without_mask -> Without Mask']\n",
            "['[1.] From Validation Class without_mask -> Without Mask']\n",
            "['[1.] From Validation Class without_mask -> Without Mask']\n",
            "['[1.] From Validation Class without_mask -> Without Mask']\n",
            "['[1.] From Validation Class without_mask -> Without Mask']\n",
            "['[1.] From Validation Class without_mask -> Without Mask']\n",
            "['[1.] From Validation Class without_mask -> Without Mask']\n",
            "['[1.] From Validation Class without_mask -> Without Mask']\n",
            "['[1.] From Validation Class without_mask -> Without Mask']\n",
            "['[1.] From Validation Class without_mask -> Without Mask']\n",
            "['[1.] From Validation Class without_mask -> Without Mask']\n",
            "['[1.] From Validation Class without_mask -> Without Mask']\n",
            "['[1.] From Validation Class without_mask -> Without Mask']\n",
            "['[1.] From Validation Class without_mask -> Without Mask']\n",
            "['[1.] From Validation Class without_mask -> Without Mask']\n",
            "['[1.] From Validation Class without_mask -> Without Mask']\n",
            "['[0.] From Validation Class with_mask -> With Mask']\n",
            "['[0.] From Validation Class with_mask -> With Mask']\n",
            "['[0.] From Validation Class with_mask -> With Mask']\n",
            "['[0.] From Validation Class with_mask -> With Mask']\n",
            "['[0.] From Validation Class with_mask -> With Mask']\n",
            "['[0.] From Validation Class with_mask -> With Mask']\n",
            "['[9.550507e-33] From Validation Class with_mask -> With Mask']\n",
            "['[0.] From Validation Class with_mask -> With Mask']\n",
            "['[0.] From Validation Class with_mask -> With Mask']\n",
            "['[0.] From Validation Class with_mask -> With Mask']\n",
            "['[0.] From Validation Class with_mask -> With Mask']\n",
            "['[0.] From Validation Class with_mask -> With Mask']\n",
            "['[0.] From Validation Class with_mask -> With Mask']\n",
            "['[0.] From Validation Class with_mask -> With Mask']\n",
            "['[0.] From Validation Class with_mask -> With Mask']\n",
            "['[0.] From Validation Class with_mask -> With Mask']\n",
            "['[0.] From Validation Class with_mask -> With Mask']\n",
            "['[0.] From Validation Class with_mask -> With Mask']\n",
            "['[0.] From Validation Class with_mask -> With Mask']\n",
            "['[0.] From Validation Class with_mask -> With Mask']\n",
            "['[0.] From Validation Class with_mask -> With Mask']\n",
            "['[0.] From Validation Class with_mask -> With Mask']\n",
            "['[0.] From Validation Class with_mask -> With Mask']\n",
            "['[0.] From Validation Class with_mask -> With Mask']\n",
            "['[0.] From Validation Class with_mask -> With Mask']\n",
            "['[0.] From Validation Class with_mask -> With Mask']\n",
            "['[0.] From Validation Class with_mask -> With Mask']\n",
            "['[0.] From Validation Class with_mask -> With Mask']\n",
            "['[0.] From Validation Class with_mask -> With Mask']\n",
            "['[0.] From Validation Class with_mask -> With Mask']\n",
            "['[0.] From Validation Class with_mask -> With Mask']\n",
            "['[0.] From Validation Class with_mask -> With Mask']\n",
            "['[0.] From Validation Class with_mask -> With Mask']\n",
            "['[0.] From Validation Class with_mask -> With Mask']\n",
            "['[0.] From Validation Class with_mask -> With Mask']\n",
            "['[0.] From Validation Class with_mask -> With Mask']\n",
            "['[0.] From Validation Class with_mask -> With Mask']\n",
            "['[0.] From Validation Class with_mask -> With Mask']\n",
            "['[0.] From Validation Class with_mask -> With Mask']\n",
            "['[0.] From Validation Class with_mask -> With Mask']\n",
            "['[0.] From Validation Class with_mask -> With Mask']\n",
            "['[0.] From Validation Class with_mask -> With Mask']\n",
            "['[0.] From Validation Class with_mask -> With Mask']\n",
            "['[0.] From Validation Class with_mask -> With Mask']\n",
            "['[0.] From Validation Class with_mask -> With Mask']\n",
            "['[0.] From Validation Class with_mask -> With Mask']\n",
            "['[0.] From Validation Class with_mask -> With Mask']\n",
            "['[0.] From Validation Class with_mask -> With Mask']\n",
            "['[0.] From Validation Class with_mask -> With Mask']\n",
            "['[0.] From Validation Class with_mask -> With Mask']\n",
            "['[0.] From Validation Class with_mask -> With Mask']\n",
            "['[0.] From Validation Class with_mask -> With Mask']\n",
            "['[0.] From Validation Class with_mask -> With Mask']\n",
            "['[0.] From Validation Class with_mask -> With Mask']\n",
            "['[0.] From Validation Class with_mask -> With Mask']\n",
            "['[0.] From Validation Class with_mask -> With Mask']\n",
            "['[0.] From Validation Class with_mask -> With Mask']\n",
            "['[0.] From Validation Class with_mask -> With Mask']\n",
            "['[0.] From Validation Class with_mask -> With Mask']\n",
            "['[0.] From Validation Class with_mask -> With Mask']\n",
            "['[0.] From Validation Class with_mask -> With Mask']\n",
            "['[0.] From Validation Class with_mask -> With Mask']\n",
            "['[0.] From Validation Class with_mask -> With Mask']\n",
            "['[0.] From Validation Class with_mask -> With Mask']\n",
            "['[0.] From Validation Class with_mask -> With Mask']\n",
            "['[0.] From Validation Class with_mask -> With Mask']\n",
            "['[0.] From Validation Class with_mask -> With Mask']\n",
            "['[0.] From Validation Class with_mask -> With Mask']\n",
            "['[0.] From Validation Class with_mask -> With Mask']\n",
            "['[0.] From Validation Class with_mask -> With Mask']\n",
            "['[0.] From Validation Class with_mask -> With Mask']\n"
          ],
          "name": "stdout"
        }
      ]
    },
    {
      "cell_type": "code",
      "metadata": {
        "id": "uljKgS_Vm6Kb",
        "colab_type": "code",
        "colab": {}
      },
      "source": [
        "model.save(\"face_mask_trained.h5\")"
      ],
      "execution_count": null,
      "outputs": []
    },
    {
      "cell_type": "code",
      "metadata": {
        "id": "wpPtNy_8ozr5",
        "colab_type": "code",
        "colab": {}
      },
      "source": [
        ""
      ],
      "execution_count": null,
      "outputs": []
    }
  ]
}